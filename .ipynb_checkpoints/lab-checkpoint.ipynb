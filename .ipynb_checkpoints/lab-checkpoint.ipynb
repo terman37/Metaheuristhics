{
 "cells": [
  {
   "cell_type": "markdown",
   "metadata": {},
   "source": [
    "EXERCISE 1\n",
    "\n",
    "The goal of simulated annealing is to maximize the performance of a model\n",
    "relative to a fitness function defined over the model parameters you are seeking to\n",
    "optimize. In Exercise 2, you will apply simulated annealing coded in scipy to\n",
    "a one-dimensional problem in which you seek the value of X that maximizes the\n",
    "output of a function called fitnessFunction. But first you must write code that\n",
    "implements the function, which is the product of m and n:\n",
    "m = 1+ cos(0.04v)2\n",
    "n = exp(−v2 /(20000))"
   ]
  },
  {
   "cell_type": "code",
   "execution_count": 1,
   "metadata": {},
   "outputs": [],
   "source": [
    "import math\n",
    "\n",
    "def fitnessFunction(v):\n",
    "    m = 1 + math.cos(0.04*v)**2\n",
    "    n = math.exp(-v**2 /(20000))\n",
    "    return m*n\n"
   ]
  },
  {
   "cell_type": "markdown",
   "metadata": {},
   "source": [
    "EXERCISE 2\n",
    "\n",
    "Display the fitness surface. To do this, make the wave fitness with 1000 points\n",
    "starting at x= -500 and ending at x = 500 (using Data > Change Wave Scaling). \n",
    "Set the yvalues in fitness to the corresponding value of the fitnessFunction(). \n",
    "Display fitness and include the graph in your lab report."
   ]
  },
  {
   "cell_type": "code",
   "execution_count": 2,
   "metadata": {},
   "outputs": [],
   "source": [
    "import matplotlib.pyplot as plt\n",
    "import numpy as np\n",
    "\n",
    "def graph_fitness():\n",
    "    v = np.arange(-500., 500., .5)\n",
    "    fitness = []\n",
    "    for x in v:\n",
    "        fitness.append(fitnessFunction(x))\n",
    "    plt.plot(v,fitness)\n",
    "\n",
    "graph_fitness()"
   ]
  },
  {
   "cell_type": "markdown",
   "metadata": {},
   "source": [
    "EXERCISE 3\n",
    "\n",
    "Run the algorithm with an initial X value of 250 and an initial temperature of 10.\n",
    "Plot the trajectory of the annealing algorithm along the fitness surface, Include the\n",
    "graph in your lab report.\n",
    "Slowly increase the temperature until you find the peak about 90% of the time.\n",
    "Report this temperature and explain its significance in terms of the relationship\n",
    "between the search radius and the dimensions of the width of the fitness curve."
   ]
  },
  {
   "cell_type": "markdown",
   "metadata": {},
   "source": [
    "EXERCISE 4\n",
    "\n",
    "Another informative graph is the plot of all the intermediate best fitnesses versus\n",
    "iteration number. Make this plot. Include the graph in your lab report"
   ]
  },
  {
   "cell_type": "code",
   "execution_count": 28,
   "metadata": {
    "scrolled": false
   },
   "outputs": [
    {
     "data": {
      "text/plain": [
       "'final value=73.87117'"
      ]
     },
     "execution_count": 28,
     "metadata": {},
     "output_type": "execute_result"
    },
    {
     "data": {
      "image/png": "[encoded data removed]",
      "text/plain": [
       "<Figure size 432x288 with 1 Axes>"
      ]
     },
     "metadata": {
      "needs_background": "light"
     },
     "output_type": "display_data"
    },
    {
     "data": {
      "image/png": "[encoded data removed]",
      "text/plain": [
       "<Figure size 432x288 with 1 Axes>"
      ]
     },
     "metadata": {
      "needs_background": "light"
     },
     "output_type": "display_data"
    }
   ],
   "source": [
    "import random\n",
    "\n",
    "def simulated_annealing(init_state, t0, alpha=0.9, tend=.01, max_nit=1):\n",
    "    # init state\n",
    "    t = t0\n",
    "    current_state = init_state\n",
    "    oldbest = current_state\n",
    "    s_st = []\n",
    "    s_e = []\n",
    "    s_t = []\n",
    "    \n",
    "    while t > tend:\n",
    "        \n",
    "        # check if new solution proposed is better than old one\n",
    "        if fitnessFunction(current_state) > fitnessFunction(oldbest):\n",
    "            oldbest = current_state\n",
    "        else:\n",
    "            current_state = oldbest\n",
    "            \n",
    "        # Store values for charts\n",
    "        s_e.append(fitnessFunction(current_state))\n",
    "        s_st.append(current_state)\n",
    "        s_t.append(t)\n",
    "        \n",
    "        # run optimization\n",
    "        nit = 1\n",
    "        while nit <= max_nit:\n",
    "            next_state = current_state + perturbation(t)\n",
    "            delta_e = - (fitnessFunction(next_state) - fitnessFunction(current_state))\n",
    "            if delta_e < 0:# or math.exp(-delta_e / t) > random.random():\n",
    "                current_state = next_state\n",
    "            nit += 1\n",
    "            \n",
    "        # decrease temp\n",
    "        t = t * alpha\n",
    "    \n",
    "    #Create charts\n",
    "    plt.figure(0)\n",
    "    graph_fitness()\n",
    "    plt.plot(s_st,s_e,\"-o\")\n",
    "    plt.figure(1)\n",
    "    plt.plot(s_e)\n",
    "    return current_state\n",
    "\n",
    "def perturbation(t):\n",
    "    res = 20 * t * random.uniform(-1, 1)\n",
    "    return res\n",
    "\n",
    "\n",
    "init_value = 250\n",
    "init_temp = 10\n",
    "\n",
    "result = simulated_annealing(init_value, init_temp)\n",
    "\"final value=%.5f\" % result"
   ]
  },
  {
   "cell_type": "markdown",
   "metadata": {},
   "source": [
    "EXERCISE 5\n",
    "\n",
    "Complete the table below by running simulation 20 times with each of 10 different\n",
    "values of temp shown. Plot number of failures vs temperature and number of\n",
    "iterations to reach the peak vs temperature. Describe and explain any trends you\n",
    "find."
   ]
  },
  {
   "cell_type": "code",
   "execution_count": null,
   "metadata": {},
   "outputs": [],
   "source": []
  },
  {
   "cell_type": "code",
   "execution_count": null,
   "metadata": {},
   "outputs": [],
   "source": []
  },
  {
   "cell_type": "code",
   "execution_count": null,
   "metadata": {},
   "outputs": [],
   "source": []
  }
 ],
 "metadata": {
  "kernelspec": {
   "display_name": "Python 3",
   "language": "python",
   "name": "python3"
  },
  "language_info": {
   "codemirror_mode": {
    "name": "ipython",
    "version": 3
   },
   "file_extension": ".py",
   "mimetype": "text/x-python",
   "name": "python",
   "nbconvert_exporter": "python",
   "pygments_lexer": "ipython3",
   "version": "3.6.9"
  }
 },
 "nbformat": 4,
 "nbformat_minor": 2
}
